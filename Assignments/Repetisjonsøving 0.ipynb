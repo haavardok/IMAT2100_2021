{
 "cells": [
  {
   "cell_type": "code",
   "execution_count": 11,
   "id": "03133078",
   "metadata": {},
   "outputs": [
    {
     "name": "stdout",
     "output_type": "stream",
     "text": [
      "The derivative of sin(x) + log(x) + e^x + x^5 is: 5*x**4 + exp(x) + cos(x) + 1/x \n",
      "\n",
      "The definite integral is: -9/2 - sin(10)*cos(10)/2 + sin(1)*cos(1)/2 + 10*log(10) \n",
      "\n",
      "The area of the plane is: -392*sqrt(7)/15 + 48*sqrt(6)/5 + 512*sqrt(2)/15 \n",
      "\n",
      "The linear approximation is: (2*x + 4*y - 9)*exp(5) \n",
      "\n",
      "x**2 + y**2 + x is r*(r + cos(theta)) in polar coordinates.\n",
      "\n",
      "The eigenvalues of [[1 2]\n",
      " [2 1]] is: [ 3. -1.] \n",
      "\n",
      "The Hessian matrix of f(x) = x^3 + y^3 is: matrix([[ 6*x , 0 ],[ 0 , 6*y ]]) \n",
      "\n"
     ]
    }
   ],
   "source": [
    "# Question 1\n",
    "\n",
    "import sympy as sp\n",
    "import numpy as np\n",
    "\n",
    "x,y,r,theta = sp.symbols(\"x y r theta\")\n",
    "\n",
    "\n",
    "#Find the derivative of sin(x) + log(x) + e^x + x^5\n",
    "f1 = sp.sin(x) + sp.log(x) + sp.exp(x) + x**5\n",
    "df1 = print(\"The derivative of sin(x) + log(x) + e^x + x^5 is:\", f1.diff(x), \"\\n\")\n",
    "\n",
    "\n",
    "#Integrate the definite integral sin(x)^2 + log(x) dx from 1 to 10\n",
    "f2 = sp.sin(x)**2 + sp.log(x)\n",
    "if2 = print(\"The definite integral is:\", sp.integrate(f2, (x,1,10)), \"\\n\")\n",
    "#sp.pprint(sp.integrate(f2, (x,1,10)))\n",
    "\n",
    "\n",
    "#Find the double integral of the square in the plane\n",
    "f3 = sp.sqrt(- y - x + 10)\n",
    "if3x = sp.integrate(f3, (x,1,2))\n",
    "if3xy = sp.integrate(if3x, (y,1,2))\n",
    "print(\"The area of the plane is:\", if3xy, \"\\n\")\n",
    "\n",
    "\n",
    "#Find the linear approximation of z = y^2 + x^2 in (1,2)\n",
    "f4 = sp.exp(y**2 + x**2)\n",
    "\n",
    "df4x = f4.diff(x).subs(x,1).subs(y,2) # The derivative of f3 with regards to x\n",
    "df4y = f4.diff(y).subs(x,1).subs(y,2)\n",
    "f4_12 = f4.subs(x,1).subs(y,2) # Exact value of f3 in (1,2)\n",
    "\n",
    "linapp = print(\"The linear approximation is:\", sp.simplify(f4_12 + df4x * (x-1) + df4y * (y-2)), \"\\n\") # Equation for tangent plane: z = linapp\n",
    "\n",
    "\n",
    "#Transform x^2 + y^2 + x to polar coordinates\n",
    "f5 = x**2 + y**2 + x\n",
    "f5p = sp.simplify(f5.subs(x,r*sp.cos(theta)).subs(y,r*sp.sin(theta)))\n",
    "print(\"x**2 + y**2 + x is\", f5p, \"in polar coordinates.\\n\")\n",
    "\n",
    "\n",
    "#Finding eigenvalues of the matrix ([[a,b],[c,d]])\n",
    "A = np.array([[1,2],[2,1]])\n",
    "eigenvalues, eigenvectors = np.linalg.eig(A)\n",
    "print(\"The eigenvalues of\", A, \"is:\", eigenvalues, \"\\n\")\n",
    "\n",
    "\n",
    "#Finding the Hessian matrix of f(x) = x^3 + y^3\n",
    "f6 = x**3 + y**3\n",
    "df6x = f6.diff(x)\n",
    "df6y = f6.diff(y)\n",
    "ddf6x = df6x.diff(x)\n",
    "ddf6y = df6y.diff(y)\n",
    "df6xdy = df6x.diff(y)\n",
    "df6ydx = df6y.diff(x)\n",
    "\n",
    "H = np.array([[ddf6x , df6xdy] , [df6ydx , ddf6y]])\n",
    "print(\"The Hessian matrix of f(x) = x^3 + y^3 is:\", \"matrix([[\", ddf6x, \",\", df6xdy, \"],[\", df6ydx, \",\", ddf6y, \"]])\", \"\\n\")\n",
    "\n",
    "\n",
    "\n",
    "\n"
   ]
  }
 ],
 "metadata": {
  "kernelspec": {
   "display_name": "Python 3",
   "language": "python",
   "name": "python3"
  },
  "language_info": {
   "codemirror_mode": {
    "name": "ipython",
    "version": 3
   },
   "file_extension": ".py",
   "mimetype": "text/x-python",
   "name": "python",
   "nbconvert_exporter": "python",
   "pygments_lexer": "ipython3",
   "version": "3.7.4"
  }
 },
 "nbformat": 4,
 "nbformat_minor": 5
}
