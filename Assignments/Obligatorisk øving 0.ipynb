{
 "cells": [
  {
   "cell_type": "code",
   "execution_count": 1,
   "id": "6499b2ce",
   "metadata": {},
   "outputs": [
    {
     "name": "stdout",
     "output_type": "stream",
     "text": [
      "Task 1a:\n",
      "  df/dx = 3*x**2 \n",
      "  df/dy = 0\n",
      "  df/dt = t**2/9 \n",
      "\n",
      "Task 1b:\n",
      "  True\n",
      "\n",
      "Task 1c:\n",
      "  A plot of the function h(x):\n"
     ]
    },
    {
     "data": {
      "image/png": "[encoded data removed]",
      "text/plain": [
       "<Figure size 640x480 with 1 Axes>"
      ]
     },
     "metadata": {},
     "output_type": "display_data"
    },
    {
     "name": "stdout",
     "output_type": "stream",
     "text": [
      "The inflection point can be read from the plot.\n",
      "\n",
      "Task 1d:\n",
      "   FiniteSet(-5*sqrt(3)/3, 5*sqrt(3)/3) \n",
      "\n",
      "Task 1e:\n",
      "   FiniteSet(-5, 0, 5)\n"
     ]
    }
   ],
   "source": [
    "# Question 1\n",
    "\n",
    "import sympy as sp\n",
    "import sympy.plotting as spl\n",
    "\n",
    "x,y,t = sp.symbols(\"x y t\")\n",
    "\n",
    "\n",
    "# a) Derivate the function f(x,y) = x^3 w.r.t. x and y\n",
    "f1 = x**3\n",
    "df1dx = f1.diff(x)\n",
    "df1dy = f1.diff(y)\n",
    "print(\"Task 1a:\\n  df/dx =\", df1dx, \"\\n  df/dy =\", df1dy)\n",
    "\n",
    "df1dt = f1.subs(x,t/3).diff(t)\n",
    "print(\"  df/dt =\", df1dt, \"\\n\")\n",
    "\n",
    "\n",
    "# b) Is g(x) = x^5 + x^4 an example of a polynomial?\n",
    "# Yes, as it contains a single indeterminate x of two different orders\n",
    "print(\"Task 1b:\\n  True\\n\")\n",
    "\n",
    "\n",
    "# c) At what value of x does h(x) = 4*(x-5)*x*(x+5) have an inflection point?\n",
    "print(\"Task 1c:\\n  A plot of the function h(x):\")\n",
    "h = 4*(x-5)*x*(x+5)\n",
    "h_plot = spl.plot(h, ylim=[-1000,1000], ylabel=\"h(x)\", show=False)\n",
    "h_plot.show()\n",
    "print(\"The inflection point can be read from the plot.\\n\")\n",
    "\n",
    "\n",
    "# d) For what value of x does h(x) have its local maxima?\n",
    "dhdx = h.diff(x)\n",
    "h_extrema = sp.solveset(dhdx)\n",
    "print(\"Task 1d:\\n  \", h_extrema, \"\\n\")\n",
    "\n",
    "\n",
    "# e) For what values of x does h(x) cross the x-axis?\n",
    "print(\"Task 1e:\\n  \", sp.solveset(h, x))"
   ]
  },
  {
   "cell_type": "code",
   "execution_count": 2,
   "id": "1d38cf12",
   "metadata": {},
   "outputs": [
    {
     "name": "stdout",
     "output_type": "stream",
     "text": [
      "Task 2a:\n",
      "   16/3 \n",
      "\n",
      "Task 2b:\n",
      "   -6 + 6*log(2*E) \n",
      "   NB! Use \"e\" instead of \"E\"\n",
      "\n",
      "Task 2c:\n",
      "   -3*pi/2 \n",
      "\n",
      "Task 2d:\n",
      "   -8/3 + 2*exp(3)/3 \n",
      "\n",
      "Task 2e:\n",
      "   8*exp(3*t)*log(t) \n",
      "\n",
      "Task 2f:\n",
      "   pi**2/2 \n",
      "\n"
     ]
    }
   ],
   "source": [
    "# Question 2\n",
    "\n",
    "import sympy as sp\n",
    "\n",
    "x,y,t = sp.symbols(\"x y t\")\n",
    "\n",
    "\n",
    "# a) Integrate 2*x**2 dx from 0 to 2\n",
    "print(\"Task 2a:\\n  \", sp.integrate(2*x**2, (x,0,2)), \"\\n\")\n",
    "\n",
    "\n",
    "# b) Intgrate 6/x dx from e to 2e\n",
    "print(\"Task 2b:\\n  \", sp.integrate(6/x, (x,sp.exp(1),2*sp.exp(1))), \"\\n   NB! Use \\\"e\\\" instead of \\\"E\\\"\\n\")\n",
    "\n",
    "\n",
    "# c) Integrate 4*t*sin(4*t) dt from -pi/2 to pi\n",
    "print(\"Task 2c:\\n  \", sp.integrate(4*t*sp.sin(4*t), (t,-sp.pi/2,sp.pi)), \"\\n\")\n",
    "\n",
    "\n",
    "# d) Integrate 4*y*(2*log(y)+e^(3*y^2)) from 0 to 1\n",
    "print(\"Task 2d:\\n  \", sp.integrate(4*y*(2*sp.log(y)+sp.exp(3*y**2)), (y,0,1)), \"\\n\")\n",
    "\n",
    "\n",
    "# e) Integrate 4*e^(3*t)*log(t) dt from -1 to 1\n",
    "print(\"Task 2e:\\n  \", sp.integrate(4*sp.exp(3*t)*sp.log(t), (y,-1,1)), \"\\n\")\n",
    "\n",
    "\n",
    "# f) Find the volume of the solid of revolution from f(x)=sin(x) about the x-axis from x=0 to x=pi\n",
    "print(\"Task 2f:\\n  \", sp.pi*sp.integrate(sp.sin(x)**2, (x,0,sp.pi)), \"\\n\")"
   ]
  },
  {
   "cell_type": "code",
   "execution_count": 3,
   "id": "94f30b1c",
   "metadata": {},
   "outputs": [
    {
     "name": "stdout",
     "output_type": "stream",
     "text": [
      "Task 3a:\n",
      "   -3 \n",
      "\n",
      "Task 3b:\n",
      "   9*sqrt(6) \n",
      "   [sqrt(6)/6 -sqrt(6)/3 sqrt(6)/6] \n",
      "\n",
      "Task 3c:\n",
      "   Matrix([[6*t], [1], [-1/t**2]])\n",
      "   sqrt(38) \n",
      "\n",
      "Task 3d:\n",
      "   2*x + 2*y + 3*z - 13 = 0\n"
     ]
    }
   ],
   "source": [
    "# Question 3\n",
    "\n",
    "import numpy as np\n",
    "import sympy as sp\n",
    "import sympy.physics.vector as sv\n",
    "\n",
    "a,b,c,x,y,z,t,x0,y0,z0 = sp.symbols(\"a b c x y z t x0 y0 z0\")\n",
    "\n",
    "\n",
    "# a) Find 3⋅[1,2,3]⋅ [0,1,−1] as a number.\n",
    "v = np.array([1,2,3])\n",
    "u = np.array([0,1,-1])\n",
    "w = 3*np.dot(u,v)\n",
    "print(\"Task 3a:\\n  \", w, \"\\n\")\n",
    "\n",
    "\n",
    "# b) Find the area of the parallellogram given by v1=[3,2,1] and v2=[3,5,7]\n",
    "v1 = np.array([3,2,1])\n",
    "v2 = np.array([3,5,7])\n",
    "v1xv2 = np.cross(v1,v2)\n",
    "area1 = sp.sqrt(v1xv2[0]**2+v1xv2[1]**2+v1xv2[2]**2)\n",
    "pos_unit_vector = v1xv2/area1\n",
    "print(\"Task 3b:\\n  \", area1, \"\\n  \", pos_unit_vector, \"\\n\")\n",
    "\n",
    "\n",
    "# c) Find the velocity vector of r(t) = [3*t^2,t,1/t] and speed at t = 1\n",
    "R = sv.ReferenceFrame(\"R\")\n",
    "\n",
    "r = 3*t**2*R.x + t*R.y + 1/t*R.z\n",
    "drdt = r.diff(t, R)\n",
    "drdt_matrix = drdt.to_matrix(R)\n",
    "print(\"Task 3c:\\n  \", drdt_matrix)\n",
    "\n",
    "drdt_1 = drdt.subs(t,1).magnitude()\n",
    "print(\"  \", drdt_1, \"\\n\")\n",
    "\n",
    "\n",
    "# d) The point p = (1,1,3) in a plane has the normal vector n = [2,2,3]. Find the equation of the plane.\n",
    "# Using that the equation of the plane is: a(x-x0)+b(y-y0)+c(z-z0)=0 when given a point in the plane and the normal vector.\n",
    "p = (1,1,3)\n",
    "n = np.array([2,2,3])\n",
    "plane_eq = a*(x-x0) + b*(y-y0) + c*(z-z0) - 0\n",
    "plane = plane_eq.subs(a,n[0]).subs(b,n[1]).subs(c,n[2]).subs(x0,p[0]).subs(y0,p[1]).subs(z0,p[2])\n",
    "print(\"Task 3d:\\n  \", plane, \"= 0\")"
   ]
  }
 ],
 "metadata": {
  "kernelspec": {
   "display_name": "Python 3",
   "language": "python",
   "name": "python3"
  },
  "language_info": {
   "codemirror_mode": {
    "name": "ipython",
    "version": 3
   },
   "file_extension": ".py",
   "mimetype": "text/x-python",
   "name": "python",
   "nbconvert_exporter": "python",
   "pygments_lexer": "ipython3",
   "version": "3.7.4"
  }
 },
 "nbformat": 4,
 "nbformat_minor": 5
}
